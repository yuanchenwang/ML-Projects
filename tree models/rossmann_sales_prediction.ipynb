{
  "cells": [
    {
      "cell_type": "markdown",
      "metadata": {},
      "source": [
        "Sales forecasting plays an integral role in setting expectations and making plans for your business. It’s your best shot at predicting the future. Rossmann operates over 3,000 drug stores in 7 European countries. Currently, Rossmann store managers are tasked with predicting their daily sales for up to six weeks in advance. You are provided with historical sales data for 1,115 Rossmann stores. The task is to forecast the \"Sales\" column for the test set. \n",
        "\n",
        "I will be performing an exhaustive analysis in order to gain insights and engineer features with an interactive exploratory analysis and finally will use XGB to predict. \n",
        "\n",
        "### Importing Dependencies\n"
      ],
      "id": "b1ffe4a6"
    },
    {
      "cell_type": "code",
      "metadata": {
        "execution": {
          "iopub.execute_input": "2021-06-28T10:28:41.659655Z",
          "iopub.status.busy": "2021-06-28T10:28:41.659287Z",
          "iopub.status.idle": "2021-06-28T10:28:41.668384Z",
          "shell.execute_reply": "2021-06-28T10:28:41.667451Z",
          "shell.execute_reply.started": "2021-06-28T10:28:41.659624Z"
        },
        "trusted": true
      },
      "source": [
        "import pandas as pd\n",
        "import numpy as np\n",
        "import matplotlib.pyplot as plt\n",
        "import seaborn as sns\n",
        "\n",
        "from sklearn.model_selection import train_test_split\n",
        "from sklearn.preprocessing import LabelEncoder\n",
        "\n",
        "import warnings\n",
        "warnings.filterwarnings('ignore')\n",
        "\n",
        "import datetime\n",
        "import math\n",
        "import calendar\n",
        "\n",
        "# Thanks for providing this in the forum\n",
        "def ToWeight(y):\n",
        "    w = np.zeros(y.shape, dtype=float)\n",
        "    ind = y != 0\n",
        "    w[ind] = 1./(y[ind]**2)\n",
        "    return w\n",
        "\n",
        "def rmspe(yhat, y):\n",
        "    w = ToWeight(y)\n",
        "    rmspe = np.sqrt(np.mean( w * (y - yhat)**2 ))\n",
        "    return rmspe\n",
        "\n",
        "def rmspe_xg(yhat, y):\n",
        "    y = y.get_label()\n",
        "    y = np.exp(y) - 1\n",
        "    yhat = np.exp(yhat) - 1\n",
        "    w = ToWeight(y)\n",
        "    rmspe = np.sqrt(np.mean(w * (y - yhat)**2))\n",
        "    return \"rmspe\", rmspe"
      ],
      "id": "32ded438",
      "execution_count": null,
      "outputs": []
    },
    {
      "cell_type": "markdown",
      "metadata": {},
      "source": [
        "### Importing Data\n"
      ],
      "id": "337f106a"
    },
    {
      "cell_type": "code",
      "metadata": {
        "execution": {
          "iopub.execute_input": "2021-06-28T10:28:41.675989Z",
          "iopub.status.busy": "2021-06-28T10:28:41.675475Z",
          "iopub.status.idle": "2021-06-28T10:28:42.553512Z",
          "shell.execute_reply": "2021-06-28T10:28:42.552711Z",
          "shell.execute_reply.started": "2021-06-28T10:28:41.675958Z"
        },
        "trusted": true
      },
      "source": [
        "train = pd.read_csv('rossmann-store-sales/train.csv')\n",
        "test = pd.read_csv('rossmann-store-sales/test.csv')\n",
        "store = pd.read_csv('rossmann-store-sales/store.csv')\n",
        "\n",
        "train.shape, test.shape, store.shape"
      ],
      "id": "a5a1459c",
      "execution_count": null,
      "outputs": []
    },
    {
      "cell_type": "markdown",
      "metadata": {},
      "source": [
        "### Joining\n"
      ],
      "id": "6d8de259"
    },
    {
      "cell_type": "code",
      "metadata": {
        "execution": {
          "iopub.execute_input": "2021-06-28T10:28:42.555380Z",
          "iopub.status.busy": "2021-06-28T10:28:42.554962Z",
          "iopub.status.idle": "2021-06-28T10:28:42.595249Z",
          "shell.execute_reply": "2021-06-28T10:28:42.594425Z",
          "shell.execute_reply.started": "2021-06-28T10:28:42.555338Z"
        },
        "trusted": true
      },
      "source": [
        "train.Store.nunique() == store.Store.nunique()"
      ],
      "id": "afc9a829",
      "execution_count": null,
      "outputs": []
    },
    {
      "cell_type": "code",
      "metadata": {
        "execution": {
          "iopub.execute_input": "2021-06-28T10:28:42.597233Z",
          "iopub.status.busy": "2021-06-28T10:28:42.596820Z",
          "iopub.status.idle": "2021-06-28T10:28:43.486576Z",
          "shell.execute_reply": "2021-06-28T10:28:43.485708Z",
          "shell.execute_reply.started": "2021-06-28T10:28:42.597192Z"
        },
        "trusted": true
      },
      "source": [
        "df = train.merge(store, how='left', left_on=train.Store, right_on=store.Store)\n",
        "df.drop(['key_0', 'Store_y'], axis=1, inplace=True)\n",
        "df = df.rename(columns={'Store_x':'Store'})\n",
        "df.shape"
      ],
      "id": "df273d44",
      "execution_count": null,
      "outputs": []
    },
    {
      "cell_type": "markdown",
      "metadata": {},
      "source": [
        "### Understanding the Data\n"
      ],
      "id": "a152e496"
    },
    {
      "cell_type": "code",
      "metadata": {
        "execution": {
          "iopub.execute_input": "2021-06-28T10:28:43.488214Z",
          "iopub.status.busy": "2021-06-28T10:28:43.487938Z",
          "iopub.status.idle": "2021-06-28T10:28:43.915969Z",
          "shell.execute_reply": "2021-06-28T10:28:43.915005Z",
          "shell.execute_reply.started": "2021-06-28T10:28:43.488188Z"
        },
        "trusted": true
      },
      "source": [
        "round(df.describe().T,2)"
      ],
      "id": "2cc54dd8",
      "execution_count": null,
      "outputs": []
    },
    {
      "cell_type": "markdown",
      "metadata": {},
      "source": [
        "There are in total 1115 stores with sales feature having 3849.93 volatility and feature customers having 464.41 volatility with a mean of 57773.82 and 633.15 respectively.\n"
      ],
      "id": "1d705fbe"
    },
    {
      "cell_type": "code",
      "metadata": {
        "execution": {
          "iopub.execute_input": "2021-06-28T10:28:43.918904Z",
          "iopub.status.busy": "2021-06-28T10:28:43.918634Z",
          "iopub.status.idle": "2021-06-28T10:28:44.315947Z",
          "shell.execute_reply": "2021-06-28T10:28:44.314947Z",
          "shell.execute_reply.started": "2021-06-28T10:28:43.918880Z"
        },
        "trusted": true
      },
      "source": [
        "train.duplicated().sum(), test.duplicated().sum()"
      ],
      "id": "5d3d0320",
      "execution_count": null,
      "outputs": []
    },
    {
      "cell_type": "code",
      "metadata": {
        "execution": {
          "iopub.execute_input": "2021-06-28T10:28:44.318624Z",
          "iopub.status.busy": "2021-06-28T10:28:44.318323Z",
          "iopub.status.idle": "2021-06-28T10:28:44.539431Z",
          "shell.execute_reply": "2021-06-28T10:28:44.538301Z",
          "shell.execute_reply.started": "2021-06-28T10:28:44.318597Z"
        },
        "trusted": true
      },
      "source": [
        "train.isnull().sum().sum(), test.isnull().sum().sum()"
      ],
      "id": "e55d402d",
      "execution_count": null,
      "outputs": []
    },
    {
      "cell_type": "markdown",
      "metadata": {},
      "source": [
        "There are no duplicates and Testing dataset has 11 null values.\n"
      ],
      "id": "c4099edf"
    },
    {
      "cell_type": "code",
      "metadata": {
        "execution": {
          "iopub.execute_input": "2021-06-28T10:28:44.541466Z",
          "iopub.status.busy": "2021-06-28T10:28:44.541035Z",
          "iopub.status.idle": "2021-06-28T10:28:44.832546Z",
          "shell.execute_reply": "2021-06-28T10:28:44.831477Z",
          "shell.execute_reply.started": "2021-06-28T10:28:44.541421Z"
        },
        "trusted": true
      },
      "source": [
        "print(\"Training data starts from: {}\".format(train.Date.min()))\n",
        "print(\"Training data end on: {}\".format(train.Date.max()))\n",
        "print()\n",
        "print(\"Testing data starts from: {}\".format(test.Date.min()))\n",
        "print(\"Testing data end on: {}\".format(test.Date.max()))"
      ],
      "id": "41bfb0f1",
      "execution_count": null,
      "outputs": []
    },
    {
      "cell_type": "markdown",
      "metadata": {},
      "source": [
        "### Exploratory Data Analysis\n"
      ],
      "id": "786eff83"
    },
    {
      "cell_type": "code",
      "metadata": {
        "execution": {
          "iopub.execute_input": "2021-06-28T10:28:44.834225Z",
          "iopub.status.busy": "2021-06-28T10:28:44.833948Z",
          "iopub.status.idle": "2021-06-28T10:28:45.340579Z",
          "shell.execute_reply": "2021-06-28T10:28:45.339565Z",
          "shell.execute_reply.started": "2021-06-28T10:28:44.834199Z"
        },
        "trusted": true
      },
      "source": [
        "df.Date = pd.to_datetime(df.Date)\n",
        "df['Day'] = df.Date.dt.day\n",
        "df['Month'] = df.Date.dt.month\n",
        "df['Year'] = df.Date.dt.year"
      ],
      "id": "1672f4ac",
      "execution_count": null,
      "outputs": []
    },
    {
      "cell_type": "markdown",
      "metadata": {},
      "source": [
        "I wish to explore seasonality and trend in the dataset and somehow engineer and pre-process features with the analysis I perform.\n"
      ],
      "id": "5528c3e6"
    },
    {
      "cell_type": "code",
      "metadata": {
        "execution": {
          "iopub.execute_input": "2021-06-28T10:28:45.342693Z",
          "iopub.status.busy": "2021-06-28T10:28:45.342261Z",
          "iopub.status.idle": "2021-06-28T10:28:45.778661Z",
          "shell.execute_reply": "2021-06-28T10:28:45.777789Z",
          "shell.execute_reply.started": "2021-06-28T10:28:45.342631Z"
        },
        "trusted": true
      },
      "source": [
        "plt.figure(figsize=(18,8))\n",
        "plt.plot(df.groupby(df.Day).sum().Sales)\n",
        "plt.title(\"Sale vs Day\")\n",
        "plt.xlabel('Day')\n",
        "plt.ylabel('Sales')\n",
        "plt.show()"
      ],
      "id": "c7d801bf",
      "execution_count": null,
      "outputs": []
    },
    {
      "cell_type": "markdown",
      "metadata": {},
      "source": [
        "Most Sales are done in the beginning of the month with end of the month being the lowest. \n"
      ],
      "id": "4b1c3203"
    },
    {
      "cell_type": "code",
      "metadata": {
        "execution": {
          "iopub.execute_input": "2021-06-28T10:28:45.780326Z",
          "iopub.status.busy": "2021-06-28T10:28:45.780039Z",
          "iopub.status.idle": "2021-06-28T10:28:46.125636Z",
          "shell.execute_reply": "2021-06-28T10:28:46.124483Z",
          "shell.execute_reply.started": "2021-06-28T10:28:45.780297Z"
        },
        "trusted": true
      },
      "source": [
        "plt.figure(figsize=(18,8))\n",
        "plt.plot(df.groupby(df.DayOfWeek).sum().Sales)\n",
        "plt.title(\"Sale vs Month\")\n",
        "plt.xlabel('Month')\n",
        "plt.ylabel('Sales')\n",
        "plt.show()"
      ],
      "id": "fab59e72",
      "execution_count": null,
      "outputs": []
    },
    {
      "cell_type": "markdown",
      "metadata": {},
      "source": [
        "Sales are more in the beginning of the week than the end. \n"
      ],
      "id": "387cdde0"
    },
    {
      "cell_type": "code",
      "metadata": {
        "execution": {
          "iopub.execute_input": "2021-06-28T10:28:46.127325Z",
          "iopub.status.busy": "2021-06-28T10:28:46.127032Z",
          "iopub.status.idle": "2021-06-28T10:28:46.454243Z",
          "shell.execute_reply": "2021-06-28T10:28:46.453354Z",
          "shell.execute_reply.started": "2021-06-28T10:28:46.127297Z"
        },
        "trusted": true
      },
      "source": [
        "plt.figure(figsize=(18,8))\n",
        "plt.plot(df.groupby(df.Month).sum().Sales)\n",
        "plt.title(\"Sale vs Month\")\n",
        "plt.xlabel('Month')\n",
        "plt.ylabel('Sales')\n",
        "plt.show()"
      ],
      "id": "97976d16",
      "execution_count": null,
      "outputs": []
    },
    {
      "cell_type": "markdown",
      "metadata": {},
      "source": [
        "Sales are relatively are lower by the end of year. \n"
      ],
      "id": "168a2caf"
    },
    {
      "cell_type": "code",
      "metadata": {
        "execution": {
          "iopub.execute_input": "2021-06-28T10:28:46.455997Z",
          "iopub.status.busy": "2021-06-28T10:28:46.455704Z",
          "iopub.status.idle": "2021-06-28T10:28:51.183356Z",
          "shell.execute_reply": "2021-06-28T10:28:51.182482Z",
          "shell.execute_reply.started": "2021-06-28T10:28:46.455968Z"
        },
        "trusted": true
      },
      "source": [
        "fig, (ax1, ax2) = plt.subplots(nrows=1, ncols=2, figsize=(18,8))\n",
        "sns.boxplot(train.Sales, ax=ax1)\n",
        "sns.kdeplot(train.Sales, ax=ax2)\n",
        "plt.show()"
      ],
      "id": "5531337e",
      "execution_count": null,
      "outputs": []
    },
    {
      "cell_type": "markdown",
      "metadata": {},
      "source": [
        "Sales are 0 on a huge amount of days which could mean this is either imputed to fill gaps as it doesn't make sense for sale of a day to be 0. It could mean the store was closed, maybe there was a holiday. Lets see if this stands. \n"
      ],
      "id": "4f3a627d"
    },
    {
      "cell_type": "code",
      "metadata": {
        "execution": {
          "iopub.execute_input": "2021-06-28T10:28:51.184915Z",
          "iopub.status.busy": "2021-06-28T10:28:51.184622Z",
          "iopub.status.idle": "2021-06-28T10:28:51.221345Z",
          "shell.execute_reply": "2021-06-28T10:28:51.220654Z",
          "shell.execute_reply.started": "2021-06-28T10:28:51.184889Z"
        },
        "trusted": true
      },
      "source": [
        "df[df.Open==0].Sales.value_counts()"
      ],
      "id": "389d6de7",
      "execution_count": null,
      "outputs": []
    },
    {
      "cell_type": "markdown",
      "metadata": {},
      "source": [
        "Seems like I was right! 172817 values are filled with 0. I will fill these values with np.NaN as some models like XGBoost can handle missing values and it might benifit from it. \n"
      ],
      "id": "528f9b97"
    },
    {
      "cell_type": "code",
      "metadata": {
        "execution": {
          "iopub.execute_input": "2021-06-28T10:28:51.222980Z",
          "iopub.status.busy": "2021-06-28T10:28:51.222460Z",
          "iopub.status.idle": "2021-06-28T10:28:52.487185Z",
          "shell.execute_reply": "2021-06-28T10:28:52.486496Z",
          "shell.execute_reply.started": "2021-06-28T10:28:51.222935Z"
        },
        "trusted": true
      },
      "source": [
        "fig, (ax1, ax2) = plt.subplots(nrows=1, ncols=2, figsize=(18,8))\n",
        "cmap = sns.diverging_palette(230, 20, as_cmap=True)\n",
        "corr = train.corr()\n",
        "mask = np.triu(np.ones_like(corr, dtype=bool))\n",
        "sns.heatmap(train.corr(), mask=mask, cmap=cmap, annot=True, ax=ax1)\n",
        "ax1.set_title('Train')\n",
        "corr = test.corr()\n",
        "mask = np.triu(np.ones_like(corr, dtype=bool))\n",
        "sns.heatmap(test.corr(), mask=mask, cmap=cmap, annot=True, ax=ax2)\n",
        "ax2.set_title('Test')\n",
        "plt.show()"
      ],
      "id": "56bb42f5",
      "execution_count": null,
      "outputs": []
    },
    {
      "cell_type": "markdown",
      "metadata": {},
      "source": [
        "Sales are highly correlated with feature Customers and feature Open and moderately correlated with Promo. Lets see some more plots about this!\n"
      ],
      "id": "1612bbb7"
    },
    {
      "cell_type": "code",
      "metadata": {
        "execution": {
          "iopub.execute_input": "2021-06-28T10:28:52.488730Z",
          "iopub.status.busy": "2021-06-28T10:28:52.488419Z",
          "iopub.status.idle": "2021-06-28T10:28:56.138510Z",
          "shell.execute_reply": "2021-06-28T10:28:56.137661Z",
          "shell.execute_reply.started": "2021-06-28T10:28:52.488705Z"
        },
        "trusted": true
      },
      "source": [
        "plt.figure(figsize=(18,8))\n",
        "temp_df = df.sample(100000)\n",
        "sns.scatterplot(data = temp_df, x = 'Sales', y = 'Customers', hue='Year')\n",
        "plt.title(\"Sales Vs Customers\")\n",
        "plt.show()"
      ],
      "id": "6f47657f",
      "execution_count": null,
      "outputs": []
    },
    {
      "cell_type": "code",
      "metadata": {
        "execution": {
          "iopub.execute_input": "2021-06-28T10:28:56.140230Z",
          "iopub.status.busy": "2021-06-28T10:28:56.139722Z",
          "iopub.status.idle": "2021-06-28T10:28:56.564065Z",
          "shell.execute_reply": "2021-06-28T10:28:56.563295Z",
          "shell.execute_reply.started": "2021-06-28T10:28:56.140184Z"
        },
        "trusted": true
      },
      "source": [
        "plt.figure(figsize=(18,8))\n",
        "temp_df = df.groupby(df.Year).sum()\n",
        "sns.barplot(data = temp_df, x = temp_df.index , y = 'Sales', palette='Blues')\n",
        "plt.title(\"Total SALE in Each Year\")\n",
        "plt.xlabel('Year')\n",
        "plt.ylabel('Sales')\n",
        "plt.show()"
      ],
      "id": "2819632b",
      "execution_count": null,
      "outputs": []
    },
    {
      "cell_type": "code",
      "metadata": {
        "execution": {
          "iopub.execute_input": "2021-06-28T10:28:56.565652Z",
          "iopub.status.busy": "2021-06-28T10:28:56.565185Z",
          "iopub.status.idle": "2021-06-28T10:29:04.076940Z",
          "shell.execute_reply": "2021-06-28T10:29:04.075727Z",
          "shell.execute_reply.started": "2021-06-28T10:28:56.565607Z"
        },
        "trusted": true
      },
      "source": [
        "fig, (ax1, ax2) = plt.subplots(nrows=1, ncols=2, figsize=(18,8))\n",
        "temp_df = df.sample(100000)\n",
        "sns.scatterplot(data = temp_df, x = 'Sales', y = 'Customers', hue='Promo', ax=ax1)\n",
        "sns.scatterplot(data = temp_df, x = 'Sales', y = 'Customers', hue='Promo2', ax=ax2)\n",
        "plt.show()"
      ],
      "id": "85f1b286",
      "execution_count": null,
      "outputs": []
    },
    {
      "cell_type": "markdown",
      "metadata": {},
      "source": [
        "Seems like Promo1 was more successful for the stores! Lets check the Sales for each promo on average. \n"
      ],
      "id": "0a79d234"
    },
    {
      "cell_type": "code",
      "metadata": {
        "execution": {
          "iopub.execute_input": "2021-06-28T10:29:04.078907Z",
          "iopub.status.busy": "2021-06-28T10:29:04.078552Z",
          "iopub.status.idle": "2021-06-28T10:29:04.122135Z",
          "shell.execute_reply": "2021-06-28T10:29:04.121221Z",
          "shell.execute_reply.started": "2021-06-28T10:29:04.078875Z"
        },
        "trusted": true
      },
      "source": [
        "df.groupby(df.Promo).Sales.mean()[1] > df.groupby(df.Promo2).Sales.mean()[1] #1 means store participated"
      ],
      "id": "a6ec3aea",
      "execution_count": null,
      "outputs": []
    },
    {
      "cell_type": "markdown",
      "metadata": {},
      "source": [
        "Lets see if the type of store is a significant feature! Intuitively, stores inventory and ambience should be a huge factor. \n"
      ],
      "id": "8842f291"
    },
    {
      "cell_type": "code",
      "metadata": {
        "execution": {
          "iopub.execute_input": "2021-06-28T10:29:04.123962Z",
          "iopub.status.busy": "2021-06-28T10:29:04.123653Z",
          "iopub.status.idle": "2021-06-28T10:29:04.524977Z",
          "shell.execute_reply": "2021-06-28T10:29:04.524062Z",
          "shell.execute_reply.started": "2021-06-28T10:29:04.123933Z"
        },
        "trusted": true
      },
      "source": [
        "plt.figure(figsize=(18,8))\n",
        "temp_df = df.groupby(df.StoreType).sum()\n",
        "sns.barplot(data = temp_df, x = temp_df.index, y = 'Sales', palette='Blues')\n",
        "plt.title(\"Store Type vs Sales\")\n",
        "plt.xlabel('Store Type')\n",
        "plt.ylabel('Sales')\n",
        "plt.show()"
      ],
      "id": "2a1505dc",
      "execution_count": null,
      "outputs": []
    },
    {
      "cell_type": "markdown",
      "metadata": {},
      "source": [
        "Why does Store A outperform all other stores?\n"
      ],
      "id": "db149cad"
    },
    {
      "cell_type": "code",
      "metadata": {
        "execution": {
          "iopub.execute_input": "2021-06-28T10:29:04.526851Z",
          "iopub.status.busy": "2021-06-28T10:29:04.526523Z",
          "iopub.status.idle": "2021-06-28T10:29:05.485518Z",
          "shell.execute_reply": "2021-06-28T10:29:05.484487Z",
          "shell.execute_reply.started": "2021-06-28T10:29:04.526821Z"
        },
        "trusted": true
      },
      "source": [
        "fig, (ax1, ax2) = plt.subplots(nrows=1, ncols=2, figsize=(18,8))\n",
        "temp_df = df.groupby(df.StoreType).count()\n",
        "sns.barplot(data = temp_df, x = temp_df.index, y = 'Promo', ax=ax1, palette='Blues')\n",
        "temp_df = df.groupby(df.StoreType).mean()\n",
        "sns.barplot(data = temp_df, x = temp_df.index, y = 'CompetitionDistance', ax=ax2, palette='Blues')\n",
        "plt.show()"
      ],
      "id": "7b9e71b5",
      "execution_count": null,
      "outputs": []
    },
    {
      "cell_type": "markdown",
      "metadata": {},
      "source": [
        "Store A did the most Promo'1's inspite of being on average top second in comparison to other stores with regard to Competition Distance (distance in meters to the nearest competitor store). Hence, I think it is fair to say promos are a big deal. Other factors could be seasonality, trend etc. Lets see about trend!\n"
      ],
      "id": "daa8131c"
    },
    {
      "cell_type": "code",
      "metadata": {
        "execution": {
          "iopub.execute_input": "2021-06-28T10:29:05.487270Z",
          "iopub.status.busy": "2021-06-28T10:29:05.486965Z",
          "iopub.status.idle": "2021-06-28T10:29:06.920331Z",
          "shell.execute_reply": "2021-06-28T10:29:06.919250Z",
          "shell.execute_reply.started": "2021-06-28T10:29:05.487243Z"
        },
        "trusted": true
      },
      "source": [
        "from statsmodels.tsa.seasonal import seasonal_decompose\n",
        "temp_df = train.copy()\n",
        "temp_df.Date = pd.to_datetime(temp_df.Date)\n",
        "temp_df.index = temp_df.Date\n",
        "temp_df.Sales = temp_df.Sales.apply(lambda x: None if x == 0 else x)\n",
        "temp_df.Sales = temp_df.Sales.fillna(method='ffill').fillna(method='bfill')\n",
        "temp_df = temp_df[['Sales']]\n",
        "temp_df = temp_df.groupby(temp_df.index).sum()\n",
        "result = seasonal_decompose(temp_df, model='additive', period=52)\n",
        "\n",
        "fig, (ax1, ax2) = plt.subplots(nrows=2, ncols=1, figsize=(18,8))\n",
        "ax1.plot(result.trend)\n",
        "ax1.axhline(y = temp_df.Sales.mean(), color = 'r', linestyle = '-', label='Sales Mean')\n",
        "ax1.set_title(\"Trend\")\n",
        "ax2.plot(result.resid)\n",
        "ax2.set_title(\"Error\")\n",
        "ax1.legend()\n",
        "plt.show()"
      ],
      "id": "38ce9aed",
      "execution_count": null,
      "outputs": []
    },
    {
      "cell_type": "markdown",
      "metadata": {},
      "source": [
        "2015 has been a good year as the trend line is above the average line by the end of 2014. Beginning of 2014 is a huge peak, I wonder what drived that?\n"
      ],
      "id": "08dc55f0"
    },
    {
      "cell_type": "code",
      "metadata": {
        "execution": {
          "iopub.execute_input": "2021-06-28T10:29:06.921892Z",
          "iopub.status.busy": "2021-06-28T10:29:06.921555Z",
          "iopub.status.idle": "2021-06-28T10:29:08.070979Z",
          "shell.execute_reply": "2021-06-28T10:29:08.069824Z",
          "shell.execute_reply.started": "2021-06-28T10:29:06.921863Z"
        },
        "trusted": true
      },
      "source": [
        "temp_df = df.copy()\n",
        "temp_df.index = temp_df.Date\n",
        "temp_df.Sales = temp_df.Sales.apply(lambda x: None if x == 0 else x)\n",
        "temp_df.Sales = temp_df.Sales.fillna(method='ffill').fillna(method='bfill')\n",
        "temp_df = temp_df.groupby(temp_df.index).mean()\n",
        "\n",
        "fig, (ax1, ax2) = plt.subplots(nrows=1, ncols=2, figsize=(18,8))\n",
        "ax1.plot(temp_df.CompetitionDistance, '.')\n",
        "ax1.set_title(\"Date vs CompetitonDistance (on average)\")\n",
        "ax2.plot(temp_df.CompetitionOpenSinceMonth, '.')\n",
        "ax2.set_title(\"Date vs CompetitionOpenSinceMonth (on average)\")\n",
        "plt.show()"
      ],
      "id": "712cb4c2",
      "execution_count": null,
      "outputs": []
    },
    {
      "cell_type": "markdown",
      "metadata": {},
      "source": [
        "Seems like there was a new competitor near the end of 2014 and since the distance also relatively increased it could be maybe change of location but these are just assumptions. It could be useful for the model to interpret such behaviour in the future for the stores. \n",
        "\n",
        "I wonder if the stores had done less promos when the trend was going down. Lets see!\n"
      ],
      "id": "b5bd462f"
    },
    {
      "cell_type": "code",
      "metadata": {
        "execution": {
          "iopub.execute_input": "2021-06-28T10:29:08.072748Z",
          "iopub.status.busy": "2021-06-28T10:29:08.072397Z",
          "iopub.status.idle": "2021-06-28T10:29:08.514045Z",
          "shell.execute_reply": "2021-06-28T10:29:08.512830Z",
          "shell.execute_reply.started": "2021-06-28T10:29:08.072718Z"
        },
        "trusted": true
      },
      "source": [
        "plt.figure(figsize=(18,8))\n",
        "temp_df = df.copy()\n",
        "temp_df.index = temp_df.Date\n",
        "temp_df = temp_df[temp_df.Year==2014]\n",
        "temp_df = temp_df.groupby(temp_df.Month).sum()\n",
        "temp_df.Sales = temp_df.Sales.apply(lambda x: None if x == 0 else x)\n",
        "temp_df.Sales = temp_df.Sales.fillna(method='ffill').fillna(method='bfill')\n",
        "\n",
        "plt.title('Total Promos done in YEAR 2014')\n",
        "sns.lineplot(data = temp_df, x = temp_df.index, y = 'Promo', palette='Blues', label='Promo1')\n",
        "sns.lineplot(data = temp_df, x = temp_df.index, y = 'Promo2', palette='Blues', label='Promo2')\n",
        "plt.legend()\n",
        "plt.show()"
      ],
      "id": "5480a9dc",
      "execution_count": null,
      "outputs": []
    },
    {
      "cell_type": "markdown",
      "metadata": {},
      "source": [
        "### Feature Engineering and Preprocessing\n"
      ],
      "id": "a3385e88"
    },
    {
      "cell_type": "code",
      "metadata": {
        "execution": {
          "iopub.execute_input": "2021-06-28T10:29:08.516231Z",
          "iopub.status.busy": "2021-06-28T10:29:08.515821Z",
          "iopub.status.idle": "2021-06-28T10:29:08.521413Z",
          "shell.execute_reply": "2021-06-28T10:29:08.520142Z",
          "shell.execute_reply.started": "2021-06-28T10:29:08.516185Z"
        },
        "trusted": true
      },
      "source": [
        "features_x = ['Store', 'Date', 'DayOfWeek', 'Open', 'Promo', 'SchoolHoliday', 'StateHoliday']\n",
        "features_y = ['SalesLog']"
      ],
      "id": "407bab8b",
      "execution_count": null,
      "outputs": []
    },
    {
      "cell_type": "code",
      "metadata": {
        "execution": {
          "iopub.execute_input": "2021-06-28T10:29:08.523289Z",
          "iopub.status.busy": "2021-06-28T10:29:08.522943Z",
          "iopub.status.idle": "2021-06-28T10:29:08.677150Z",
          "shell.execute_reply": "2021-06-28T10:29:08.675810Z",
          "shell.execute_reply.started": "2021-06-28T10:29:08.523261Z"
        },
        "trusted": true
      },
      "source": [
        "train['is_train'] = 1\n",
        "test['is_train'] = 0\n",
        "df = pd.concat([train, test])"
      ],
      "id": "5a77136f",
      "execution_count": null,
      "outputs": []
    },
    {
      "cell_type": "code",
      "metadata": {
        "execution": {
          "iopub.execute_input": "2021-06-28T10:29:08.679110Z",
          "iopub.status.busy": "2021-06-28T10:29:08.678766Z",
          "iopub.status.idle": "2021-06-28T10:29:08.871151Z",
          "shell.execute_reply": "2021-06-28T10:29:08.870124Z",
          "shell.execute_reply.started": "2021-06-28T10:29:08.679076Z"
        },
        "trusted": true
      },
      "source": [
        "df.Date = pd.to_datetime(df.Date) #Converting date to required format"
      ],
      "id": "08daf7cd",
      "execution_count": null,
      "outputs": []
    },
    {
      "cell_type": "code",
      "metadata": {
        "execution": {
          "iopub.execute_input": "2021-06-28T10:29:08.873214Z",
          "iopub.status.busy": "2021-06-28T10:29:08.872786Z",
          "iopub.status.idle": "2021-06-28T10:29:08.994601Z",
          "shell.execute_reply": "2021-06-28T10:29:08.993487Z",
          "shell.execute_reply.started": "2021-06-28T10:29:08.873172Z"
        },
        "trusted": true
      },
      "source": [
        "df = df.loc[~((df['Open'] == 1) & (df['Sales'] == 0))] #Removing rows with Sales 0"
      ],
      "id": "d3a0502e",
      "execution_count": null,
      "outputs": []
    },
    {
      "cell_type": "code",
      "metadata": {
        "execution": {
          "iopub.execute_input": "2021-06-28T10:29:08.997107Z",
          "iopub.status.busy": "2021-06-28T10:29:08.996673Z",
          "iopub.status.idle": "2021-06-28T10:29:09.519177Z",
          "shell.execute_reply": "2021-06-28T10:29:09.518036Z",
          "shell.execute_reply.started": "2021-06-28T10:29:08.997063Z"
        },
        "trusted": true
      },
      "source": [
        "df.StateHoliday = df.StateHoliday.map({0:'0', 'a':'a', 'b':'b', 'c':'c', '0':'0'}) #mixed data types\n",
        "df.StateHoliday = LabelEncoder().fit_transform(df.StateHoliday) #Encoding for XG Boost"
      ],
      "id": "048d648b",
      "execution_count": null,
      "outputs": []
    },
    {
      "cell_type": "code",
      "metadata": {
        "execution": {
          "iopub.execute_input": "2021-06-28T10:29:09.520850Z",
          "iopub.status.busy": "2021-06-28T10:29:09.520537Z",
          "iopub.status.idle": "2021-06-28T10:29:10.052186Z",
          "shell.execute_reply": "2021-06-28T10:29:10.050543Z",
          "shell.execute_reply.started": "2021-06-28T10:29:09.520821Z"
        },
        "trusted": true
      },
      "source": [
        "var_name = 'Date'\n",
        "\n",
        "df[var_name + 'Day'] = df[var_name].dt.day #addding day\n",
        "df[var_name + 'Week'] = df[var_name].dt.week #adding week\n",
        "df[var_name + 'Month'] = df[var_name].dt.month #adding month\n",
        "df[var_name + 'Year'] = df[var_name].dt.year #adding year\n",
        "df[var_name + 'DayOfYear'] = df[var_name].dt.dayofyear #adding dayofyear\n",
        "\n",
        "features_x.remove(var_name) #removing Date\n",
        "features_x.append(var_name + 'Day')\n",
        "features_x.append(var_name + 'Week')\n",
        "features_x.append(var_name + 'Month')\n",
        "features_x.append(var_name + 'Year')\n",
        "features_x.append(var_name + 'DayOfYear')"
      ],
      "id": "8d84b87c",
      "execution_count": null,
      "outputs": []
    },
    {
      "cell_type": "code",
      "metadata": {
        "execution": {
          "iopub.execute_input": "2021-06-28T10:29:10.055155Z",
          "iopub.status.busy": "2021-06-28T10:29:10.054696Z",
          "iopub.status.idle": "2021-06-28T10:29:10.064355Z",
          "shell.execute_reply": "2021-06-28T10:29:10.063147Z",
          "shell.execute_reply.started": "2021-06-28T10:29:10.055101Z"
        },
        "trusted": true
      },
      "source": [
        "store.StoreType = LabelEncoder().fit_transform(store.StoreType) #encoding StoreType\n",
        "store.Assortment = LabelEncoder().fit_transform(store.Assortment) #encoding Assortment"
      ],
      "id": "f941ab66",
      "execution_count": null,
      "outputs": []
    },
    {
      "cell_type": "code",
      "metadata": {
        "execution": {
          "iopub.execute_input": "2021-06-28T10:29:10.066285Z",
          "iopub.status.busy": "2021-06-28T10:29:10.065943Z",
          "iopub.status.idle": "2021-06-28T10:29:10.337059Z",
          "shell.execute_reply": "2021-06-28T10:29:10.336091Z",
          "shell.execute_reply.started": "2021-06-28T10:29:10.066253Z"
        },
        "trusted": true
      },
      "source": [
        "join_with = store['PromoInterval'].str.split(',').apply(pd.Series)\n",
        "join_with.columns = join_with.columns.map(lambda x: str(x) + '_PromoInterval')\n",
        "store = store.join(join_with) #joining splits"
      ],
      "id": "4e55c1b0",
      "execution_count": null,
      "outputs": []
    },
    {
      "cell_type": "code",
      "metadata": {
        "execution": {
          "iopub.execute_input": "2021-06-28T10:29:10.344492Z",
          "iopub.status.busy": "2021-06-28T10:29:10.344098Z",
          "iopub.status.idle": "2021-06-28T10:29:10.475918Z",
          "shell.execute_reply": "2021-06-28T10:29:10.474806Z",
          "shell.execute_reply.started": "2021-06-28T10:29:10.344455Z"
        },
        "trusted": true
      },
      "source": [
        "def monthToNum(value):\n",
        "    if(value=='Sept'):\n",
        "        value='Sep'\n",
        "    return list(calendar.month_abbr).index(value)\n",
        "#mapping month abbr to month number\n",
        "store['0_PromoInterval'] = store['0_PromoInterval'].map(lambda x: monthToNum(x) if str(x) != 'nan' else np.nan)\n",
        "store['1_PromoInterval'] = store['1_PromoInterval'].map(lambda x: monthToNum(x) if str(x) != 'nan' else np.nan)\n",
        "store['2_PromoInterval'] = store['2_PromoInterval'].map(lambda x: monthToNum(x) if str(x) != 'nan' else np.nan)\n",
        "store['3_PromoInterval'] = store['3_PromoInterval'].map(lambda x: monthToNum(x) if str(x) != 'nan' else np.nan)"
      ],
      "id": "65dabf6e",
      "execution_count": null,
      "outputs": []
    },
    {
      "cell_type": "code",
      "metadata": {
        "execution": {
          "iopub.execute_input": "2021-06-28T10:29:10.478042Z",
          "iopub.status.busy": "2021-06-28T10:29:10.477704Z",
          "iopub.status.idle": "2021-06-28T10:29:10.679383Z",
          "shell.execute_reply": "2021-06-28T10:29:10.678373Z",
          "shell.execute_reply.started": "2021-06-28T10:29:10.478002Z"
        },
        "trusted": true
      },
      "source": [
        "competition_open = []\n",
        "for index, value in store[['CompetitionOpenSinceMonth', 'CompetitionOpenSinceYear']].iterrows():\n",
        "    try:\n",
        "        year, month = int(value['CompetitionOpenSinceYear']), int(value['CompetitionOpenSinceMonth'])\n",
        "        date = pd.to_datetime(\"{}-{}-01\".format(year, month), format='%Y-%m')\n",
        "        competition_open.append(date)\n",
        "    except:\n",
        "        competition_open.append(np.nan)\n",
        "competition_open = pd.Series(competition_open)\n",
        "competition_open.shape"
      ],
      "id": "0b17f3e7",
      "execution_count": null,
      "outputs": []
    },
    {
      "cell_type": "code",
      "metadata": {
        "execution": {
          "iopub.execute_input": "2021-06-28T10:29:10.681025Z",
          "iopub.status.busy": "2021-06-28T10:29:10.680723Z",
          "iopub.status.idle": "2021-06-28T10:29:10.694647Z",
          "shell.execute_reply": "2021-06-28T10:29:10.693306Z",
          "shell.execute_reply.started": "2021-06-28T10:29:10.680994Z"
        },
        "trusted": true
      },
      "source": [
        "store['CompetitionOpen'] = competition_open #converted int to datetime\n",
        "store['CompetitionOpen'] = store.CompetitionOpen.dt.strftime('%Y%m%d')"
      ],
      "id": "f3801670",
      "execution_count": null,
      "outputs": []
    },
    {
      "cell_type": "code",
      "metadata": {
        "execution": {
          "iopub.execute_input": "2021-06-28T10:29:10.696395Z",
          "iopub.status.busy": "2021-06-28T10:29:10.696079Z",
          "iopub.status.idle": "2021-06-28T10:29:10.825896Z",
          "shell.execute_reply": "2021-06-28T10:29:10.824811Z",
          "shell.execute_reply.started": "2021-06-28T10:29:10.696363Z"
        },
        "trusted": true
      },
      "source": [
        "promo = []\n",
        "for index, value in store[['Promo2SinceWeek', 'Promo2SinceYear']].iterrows():\n",
        "    try:\n",
        "        year, week = int(value['Promo2SinceYear']), int(value['Promo2SinceWeek'])\n",
        "        date = pd.to_datetime(\"{}-{}-01\".format(year, week), format='%Y%W')\n",
        "        promo.append(date)\n",
        "    except:\n",
        "        promo.append(np.nan)\n",
        "promo = pd.to_datetime(pd.Series(competition_open))\n",
        "promo.shape"
      ],
      "id": "0018b420",
      "execution_count": null,
      "outputs": []
    },
    {
      "cell_type": "code",
      "metadata": {
        "execution": {
          "iopub.execute_input": "2021-06-28T10:29:10.827530Z",
          "iopub.status.busy": "2021-06-28T10:29:10.827215Z",
          "iopub.status.idle": "2021-06-28T10:29:10.842757Z",
          "shell.execute_reply": "2021-06-28T10:29:10.841569Z",
          "shell.execute_reply.started": "2021-06-28T10:29:10.827499Z"
        },
        "trusted": true
      },
      "source": [
        "store['PromoSince'] = promo #converted int to datetime\n",
        "store['PromoSince'] = store.PromoSince.dt.strftime('%Y%m%d')"
      ],
      "id": "590e0ab6",
      "execution_count": null,
      "outputs": []
    },
    {
      "cell_type": "code",
      "metadata": {
        "execution": {
          "iopub.execute_input": "2021-06-28T10:29:10.844469Z",
          "iopub.status.busy": "2021-06-28T10:29:10.844165Z",
          "iopub.status.idle": "2021-06-28T10:29:10.849776Z",
          "shell.execute_reply": "2021-06-28T10:29:10.848567Z",
          "shell.execute_reply.started": "2021-06-28T10:29:10.844441Z"
        },
        "trusted": true
      },
      "source": [
        "store_features = ['Store', 'StoreType', 'Assortment', 'CompetitionDistance', 'CompetitionOpen', \n",
        "                  'PromoSince', '0_PromoInterval']\n",
        "#1_PromoInterval, 2_PromoInterval, 3_PromoInterval irrelevent"
      ],
      "id": "87ccff55",
      "execution_count": null,
      "outputs": []
    },
    {
      "cell_type": "code",
      "metadata": {
        "execution": {
          "iopub.execute_input": "2021-06-28T10:29:10.851654Z",
          "iopub.status.busy": "2021-06-28T10:29:10.851315Z",
          "iopub.status.idle": "2021-06-28T10:29:11.245360Z",
          "shell.execute_reply": "2021-06-28T10:29:11.244272Z",
          "shell.execute_reply.started": "2021-06-28T10:29:10.851614Z"
        },
        "trusted": true
      },
      "source": [
        "df = pd.merge(df, store[store_features], how='left', on=['Store'])"
      ],
      "id": "3a764baf",
      "execution_count": null,
      "outputs": []
    },
    {
      "cell_type": "code",
      "metadata": {
        "execution": {
          "iopub.execute_input": "2021-06-28T10:29:11.246981Z",
          "iopub.status.busy": "2021-06-28T10:29:11.246688Z",
          "iopub.status.idle": "2021-06-28T10:29:11.251893Z",
          "shell.execute_reply": "2021-06-28T10:29:11.250741Z",
          "shell.execute_reply.started": "2021-06-28T10:29:11.246953Z"
        },
        "trusted": true
      },
      "source": [
        "features_x = list(set(features_x + store_features))"
      ],
      "id": "a6de0a1e",
      "execution_count": null,
      "outputs": []
    },
    {
      "cell_type": "code",
      "metadata": {
        "execution": {
          "iopub.execute_input": "2021-06-28T10:29:11.254150Z",
          "iopub.status.busy": "2021-06-28T10:29:11.253697Z",
          "iopub.status.idle": "2021-06-28T10:29:11.570573Z",
          "shell.execute_reply": "2021-06-28T10:29:11.569488Z",
          "shell.execute_reply.started": "2021-06-28T10:29:11.254104Z"
        },
        "trusted": true
      },
      "source": [
        "for feature in features_x:\n",
        "    df[feature] = df[feature].fillna(-999) #out of range value for model"
      ],
      "id": "4cfaf98d",
      "execution_count": null,
      "outputs": []
    },
    {
      "cell_type": "code",
      "metadata": {
        "execution": {
          "iopub.execute_input": "2021-06-28T10:29:11.572619Z",
          "iopub.status.busy": "2021-06-28T10:29:11.572190Z",
          "iopub.status.idle": "2021-06-28T10:29:21.452933Z",
          "shell.execute_reply": "2021-06-28T10:29:21.451479Z",
          "shell.execute_reply.started": "2021-06-28T10:29:11.572553Z"
        },
        "trusted": true
      },
      "source": [
        "df['DateInt'] = df.Date.dt.strftime('%Y%m%d').map(int) #mapping to Int\n",
        "df['CompetitionOpen'] = df.CompetitionOpen.map(int)\n",
        "df['PromoSince'] = df.PromoSince.map(int)"
      ],
      "id": "6add7013",
      "execution_count": null,
      "outputs": []
    },
    {
      "cell_type": "code",
      "metadata": {
        "execution": {
          "iopub.execute_input": "2021-06-28T10:29:21.454614Z",
          "iopub.status.busy": "2021-06-28T10:29:21.454267Z",
          "iopub.status.idle": "2021-06-28T10:29:21.473351Z",
          "shell.execute_reply": "2021-06-28T10:29:21.472339Z",
          "shell.execute_reply.started": "2021-06-28T10:29:21.454567Z"
        },
        "trusted": true
      },
      "source": [
        "df['Zscore'] = (df.Sales - df.Sales.mean())/df.Sales.std()"
      ],
      "id": "e8522686",
      "execution_count": null,
      "outputs": []
    },
    {
      "cell_type": "code",
      "metadata": {
        "execution": {
          "iopub.execute_input": "2021-06-28T10:29:21.475050Z",
          "iopub.status.busy": "2021-06-28T10:29:21.474626Z",
          "iopub.status.idle": "2021-06-28T10:29:21.858211Z",
          "shell.execute_reply": "2021-06-28T10:29:21.856956Z",
          "shell.execute_reply.started": "2021-06-28T10:29:21.475007Z"
        },
        "trusted": true
      },
      "source": [
        "thresh=4.0\n",
        "def check_outlier(value):\n",
        "    if(value>=thresh):\n",
        "        return True\n",
        "    else:\n",
        "        return False\n",
        "\n",
        "df['Outlier'] = df.Zscore.apply(check_outlier)"
      ],
      "id": "bb2fd979",
      "execution_count": null,
      "outputs": []
    },
    {
      "cell_type": "code",
      "metadata": {
        "execution": {
          "iopub.execute_input": "2021-06-28T10:29:21.859836Z",
          "iopub.status.busy": "2021-06-28T10:29:21.859533Z",
          "iopub.status.idle": "2021-06-28T10:29:21.938849Z",
          "shell.execute_reply": "2021-06-28T10:29:21.937707Z",
          "shell.execute_reply.started": "2021-06-28T10:29:21.859808Z"
        },
        "trusted": true
      },
      "source": [
        "store_data_sales = df.groupby([df['Store']])['Sales'].sum()\n",
        "store_data_customers = df.groupby([df['Store']])['Customers'].sum()\n",
        "store_data_open = df.groupby([df['Store']])['Open'].count()\n",
        "\n",
        "store_data_sales_per_day = store_data_sales / store_data_open\n",
        "store_data_customers_per_day = store_data_customers / store_data_open\n",
        "store_data_sales_per_customer_per_day = store_data_sales_per_day / store_data_customers_per_day\n",
        "\n",
        "df_store = pd.merge(store, store_data_sales_per_day.reset_index(name='SalesPerDay'), how='left', on=['Store'])\n",
        "df_store = pd.merge(df_store, store_data_customers_per_day.reset_index(name='CustomersPerDay'), how='left', on=['Store'])\n",
        "df_store = pd.merge(df_store, store_data_sales_per_customer_per_day.reset_index(name='SalesPerCustomersPerDay'), how='left', on=['Store'])"
      ],
      "id": "55aad0b9",
      "execution_count": null,
      "outputs": []
    },
    {
      "cell_type": "code",
      "metadata": {
        "execution": {
          "iopub.execute_input": "2021-06-28T10:29:21.940544Z",
          "iopub.status.busy": "2021-06-28T10:29:21.940242Z",
          "iopub.status.idle": "2021-06-28T10:29:22.238412Z",
          "shell.execute_reply": "2021-06-28T10:29:22.237295Z",
          "shell.execute_reply.started": "2021-06-28T10:29:21.940516Z"
        },
        "trusted": true
      },
      "source": [
        "store_features = ['Store', 'SalesPerDay', 'CustomersPerDay', 'SalesPerCustomersPerDay']\n",
        "\n",
        "features_x = list(set(features_x + store_features))\n",
        "df = pd.merge(df, df_store[store_features], how='left', on=['Store'])"
      ],
      "id": "fd514638",
      "execution_count": null,
      "outputs": []
    },
    {
      "cell_type": "code",
      "metadata": {
        "execution": {
          "iopub.execute_input": "2021-06-28T10:29:22.240126Z",
          "iopub.status.busy": "2021-06-28T10:29:22.239806Z",
          "iopub.status.idle": "2021-06-28T10:29:23.242818Z",
          "shell.execute_reply": "2021-06-28T10:29:23.241710Z",
          "shell.execute_reply.started": "2021-06-28T10:29:22.240098Z"
        },
        "trusted": true
      },
      "source": [
        "holidays_each_day_of_week = df.groupby(df.DayOfWeek).sum().StateHoliday\n",
        "df = pd.merge(df, holidays_each_day_of_week.reset_index(name='HolidaysPerDayOfWeek'), on=['DayOfWeek'])"
      ],
      "id": "411e7dca",
      "execution_count": null,
      "outputs": []
    },
    {
      "cell_type": "code",
      "metadata": {
        "execution": {
          "iopub.execute_input": "2021-06-28T10:29:23.244766Z",
          "iopub.status.busy": "2021-06-28T10:29:23.244444Z",
          "iopub.status.idle": "2021-06-28T10:29:24.459908Z",
          "shell.execute_reply": "2021-06-28T10:29:24.459009Z",
          "shell.execute_reply.started": "2021-06-28T10:29:23.244737Z"
        },
        "trusted": true
      },
      "source": [
        "school_holidays_each_day_of_week = df.groupby(df.DayOfWeek).sum().SchoolHoliday\n",
        "df = pd.merge(df, school_holidays_each_day_of_week.reset_index(name='SchoolHolidaysPerDayOfWeek'), on=['DayOfWeek'])"
      ],
      "id": "318535e2",
      "execution_count": null,
      "outputs": []
    },
    {
      "cell_type": "code",
      "metadata": {
        "execution": {
          "iopub.execute_input": "2021-06-28T10:29:24.461516Z",
          "iopub.status.busy": "2021-06-28T10:29:24.461199Z",
          "iopub.status.idle": "2021-06-28T10:29:25.673476Z",
          "shell.execute_reply": "2021-06-28T10:29:25.672118Z",
          "shell.execute_reply.started": "2021-06-28T10:29:24.461485Z"
        },
        "trusted": true
      },
      "source": [
        "promo_each_day_of_week = df.groupby(df.DayOfWeek).sum().Promo\n",
        "df = pd.merge(df, promo_each_day_of_week.reset_index(name='PromoPerDayOfWeek'), on=['DayOfWeek'])"
      ],
      "id": "062dcfcc",
      "execution_count": null,
      "outputs": []
    },
    {
      "cell_type": "code",
      "metadata": {
        "execution": {
          "iopub.execute_input": "2021-06-28T10:29:25.675333Z",
          "iopub.status.busy": "2021-06-28T10:29:25.674931Z",
          "iopub.status.idle": "2021-06-28T10:37:32.599331Z",
          "shell.execute_reply": "2021-06-28T10:37:32.598228Z",
          "shell.execute_reply.started": "2021-06-28T10:29:25.675298Z"
        },
        "trusted": true
      },
      "source": [
        "holidays_next_week=[]\n",
        "holidays_next_week_index=[]\n",
        "for index, value in df.groupby(df.Date).sum().iterrows():\n",
        "    start_range = index + datetime.timedelta(days=7)\n",
        "    end_range = index + datetime.timedelta(days=15)\n",
        "    school_holidays = sum((df.groupby(df.Date).sum()[start_range:end_range]).SchoolHoliday)\n",
        "    state_holidays = sum((df.groupby(df.Date).sum()[start_range:end_range]).StateHoliday)\n",
        "    holidays_next_week.append(school_holidays+state_holidays)\n",
        "    holidays_next_week_index.append(index)\n",
        "    \n",
        "holidays_next_week = pd.Series(holidays_next_week)\n",
        "holidays_next_week.shape"
      ],
      "id": "5da32597",
      "execution_count": null,
      "outputs": []
    },
    {
      "cell_type": "code",
      "metadata": {
        "execution": {
          "iopub.execute_input": "2021-06-28T10:37:32.601687Z",
          "iopub.status.busy": "2021-06-28T10:37:32.600998Z",
          "iopub.status.idle": "2021-06-28T10:45:14.888439Z",
          "shell.execute_reply": "2021-06-28T10:45:14.887422Z",
          "shell.execute_reply.started": "2021-06-28T10:37:32.601637Z"
        },
        "trusted": true
      },
      "source": [
        "holidays_this_week=[]\n",
        "index_list = []\n",
        "for index, value in df.groupby(df.Date).sum().iterrows():\n",
        "    start_range = index \n",
        "    end_range = index + datetime.timedelta(days=7)\n",
        "    school_holidays = sum((df.groupby(df.Date).sum()[start_range:end_range]).SchoolHoliday)\n",
        "    state_holidays = sum((df.groupby(df.Date).sum()[start_range:end_range]).StateHoliday)\n",
        "    holidays_this_week.append(school_holidays+state_holidays)\n",
        "    index_list.append(index)\n",
        "    \n",
        "holidays_this_week = pd.Series(holidays_this_week)\n",
        "holidays_this_week.shape"
      ],
      "id": "887b7dc2",
      "execution_count": null,
      "outputs": []
    },
    {
      "cell_type": "code",
      "metadata": {
        "execution": {
          "iopub.execute_input": "2021-06-28T10:45:14.890298Z",
          "iopub.status.busy": "2021-06-28T10:45:14.889946Z",
          "iopub.status.idle": "2021-06-28T10:52:58.555495Z",
          "shell.execute_reply": "2021-06-28T10:52:58.554770Z",
          "shell.execute_reply.started": "2021-06-28T10:45:14.890268Z"
        },
        "trusted": true
      },
      "source": [
        "holidays_last_week=[]\n",
        "holidays_last_week_index=[]\n",
        "for index, value in df.groupby(df.Date).sum().iterrows():\n",
        "    start_range = index - datetime.timedelta(days=7)\n",
        "    end_range = index + datetime.timedelta(days=1)\n",
        "    school_holidays = sum((df.groupby(df.Date).sum()[start_range:end_range]).SchoolHoliday)\n",
        "    state_holidays = sum((df.groupby(df.Date).sum()[start_range:end_range]).StateHoliday)\n",
        "    holidays_last_week.append(school_holidays+state_holidays)\n",
        "    holidays_last_week_index.append(index)\n",
        "    \n",
        "holidays_last_week = pd.Series(holidays_next_week)\n",
        "holidays_last_week.shape"
      ],
      "id": "f78349e8",
      "execution_count": null,
      "outputs": []
    },
    {
      "cell_type": "code",
      "metadata": {
        "execution": {
          "iopub.execute_input": "2021-06-28T10:52:58.557208Z",
          "iopub.status.busy": "2021-06-28T10:52:58.556728Z",
          "iopub.status.idle": "2021-06-28T10:52:59.364882Z",
          "shell.execute_reply": "2021-06-28T10:52:59.364041Z",
          "shell.execute_reply.started": "2021-06-28T10:52:58.557177Z"
        },
        "trusted": true
      },
      "source": [
        "temp_df = pd.DataFrame({'HolidaysNextWeek':holidays_next_week, 'Date': holidays_next_week_index})\n",
        "df = pd.merge(df, temp_df, on=['Date'])"
      ],
      "id": "ca80a025",
      "execution_count": null,
      "outputs": []
    },
    {
      "cell_type": "code",
      "metadata": {
        "execution": {
          "iopub.execute_input": "2021-06-28T10:52:59.366659Z",
          "iopub.status.busy": "2021-06-28T10:52:59.366151Z",
          "iopub.status.idle": "2021-06-28T10:52:59.602308Z",
          "shell.execute_reply": "2021-06-28T10:52:59.601507Z",
          "shell.execute_reply.started": "2021-06-28T10:52:59.366625Z"
        },
        "trusted": true
      },
      "source": [
        "temp_df = pd.DataFrame({'HolidaysThisWeek':holidays_this_week, 'Date': index_list})\n",
        "df = pd.merge(df, temp_df, on=['Date'])"
      ],
      "id": "98a158ba",
      "execution_count": null,
      "outputs": []
    },
    {
      "cell_type": "code",
      "metadata": {
        "execution": {
          "iopub.execute_input": "2021-06-28T10:52:59.604045Z",
          "iopub.status.busy": "2021-06-28T10:52:59.603538Z",
          "iopub.status.idle": "2021-06-28T10:52:59.803846Z",
          "shell.execute_reply": "2021-06-28T10:52:59.803049Z",
          "shell.execute_reply.started": "2021-06-28T10:52:59.604003Z"
        },
        "trusted": true
      },
      "source": [
        "temp_df = pd.DataFrame({'HolidaysLastWeek':holidays_last_week, 'Date': holidays_last_week_index})\n",
        "df = pd.merge(df, temp_df, on=['Date'])"
      ],
      "id": "5aacca19",
      "execution_count": null,
      "outputs": []
    },
    {
      "cell_type": "code",
      "metadata": {
        "execution": {
          "iopub.execute_input": "2021-06-28T10:52:59.805519Z",
          "iopub.status.busy": "2021-06-28T10:52:59.805052Z",
          "iopub.status.idle": "2021-06-28T10:52:59.809749Z",
          "shell.execute_reply": "2021-06-28T10:52:59.808627Z",
          "shell.execute_reply.started": "2021-06-28T10:52:59.805488Z"
        },
        "trusted": true
      },
      "source": [
        "holidays_features = ['HolidaysPerDayOfWeek', 'SchoolHolidaysPerDayOfWeek', 'PromoPerDayOfWeek', \n",
        "                     'HolidaysNextWeek', 'HolidaysThisWeek', 'HolidaysLastWeek']\n",
        "\n",
        "features_x = list(set(features_x + holidays_features))"
      ],
      "id": "580c025b",
      "execution_count": null,
      "outputs": []
    },
    {
      "cell_type": "code",
      "metadata": {
        "execution": {
          "iopub.execute_input": "2021-06-28T10:52:59.811648Z",
          "iopub.status.busy": "2021-06-28T10:52:59.811217Z",
          "iopub.status.idle": "2021-06-28T10:53:00.378092Z",
          "shell.execute_reply": "2021-06-28T10:53:00.376988Z",
          "shell.execute_reply.started": "2021-06-28T10:52:59.811580Z"
        },
        "trusted": true
      },
      "source": [
        "#Most Promos are done on DayofWeek 4\n",
        "df['DaysTillMaxPromo'] = df.DayOfWeek.apply(lambda x: 4-x)"
      ],
      "id": "9d9a37ad",
      "execution_count": null,
      "outputs": []
    },
    {
      "cell_type": "code",
      "metadata": {
        "execution": {
          "iopub.execute_input": "2021-06-28T10:53:00.380256Z",
          "iopub.status.busy": "2021-06-28T10:53:00.379813Z",
          "iopub.status.idle": "2021-06-28T10:53:00.398767Z",
          "shell.execute_reply": "2021-06-28T10:53:00.397836Z",
          "shell.execute_reply.started": "2021-06-28T10:53:00.380212Z"
        },
        "trusted": true
      },
      "source": [
        "df['PromoTomorrow'] = df.Promo.shift(-1)\n",
        "df['PromoYesterday'] = df.Promo.shift(1)"
      ],
      "id": "183c0dbf",
      "execution_count": null,
      "outputs": []
    },
    {
      "cell_type": "code",
      "metadata": {
        "execution": {
          "iopub.execute_input": "2021-06-28T10:53:00.400363Z",
          "iopub.status.busy": "2021-06-28T10:53:00.400077Z",
          "iopub.status.idle": "2021-06-28T10:53:00.404720Z",
          "shell.execute_reply": "2021-06-28T10:53:00.403694Z",
          "shell.execute_reply.started": "2021-06-28T10:53:00.400335Z"
        },
        "trusted": true
      },
      "source": [
        "promo_features = ['DaysTillMaxPromo', 'PromoTomorrow', 'PromoYesterday']\n",
        "\n",
        "features_x = list(set(features_x + promo_features))"
      ],
      "id": "4ae32db7",
      "execution_count": null,
      "outputs": []
    },
    {
      "cell_type": "code",
      "metadata": {
        "execution": {
          "iopub.execute_input": "2021-06-28T10:53:00.406291Z",
          "iopub.status.busy": "2021-06-28T10:53:00.405967Z",
          "iopub.status.idle": "2021-06-28T10:53:00.887891Z",
          "shell.execute_reply": "2021-06-28T10:53:00.887041Z",
          "shell.execute_reply.started": "2021-06-28T10:53:00.406262Z"
        },
        "trusted": true
      },
      "source": [
        "df.Sales = df.Sales.apply(lambda x: np.nan if x == 0 else x) #Convert 0 to NaNs"
      ],
      "id": "17e814b0",
      "execution_count": null,
      "outputs": []
    },
    {
      "cell_type": "code",
      "metadata": {
        "execution": {
          "iopub.execute_input": "2021-06-28T10:53:00.889455Z",
          "iopub.status.busy": "2021-06-28T10:53:00.889150Z",
          "iopub.status.idle": "2021-06-28T10:53:01.279111Z",
          "shell.execute_reply": "2021-06-28T10:53:01.278081Z",
          "shell.execute_reply.started": "2021-06-28T10:53:00.889426Z"
        },
        "trusted": true
      },
      "source": [
        "df.loc[df['is_train'] == 1, 'SalesLog'] = np.log(1+df.loc[df['is_train'] == 1]['Sales']) #Transforming Sales to 1+log"
      ],
      "id": "6fc7a8ec",
      "execution_count": null,
      "outputs": []
    },
    {
      "cell_type": "code",
      "metadata": {
        "execution": {
          "iopub.execute_input": "2021-06-28T10:53:01.280547Z",
          "iopub.status.busy": "2021-06-28T10:53:01.280279Z",
          "iopub.status.idle": "2021-06-28T10:53:01.285892Z",
          "shell.execute_reply": "2021-06-28T10:53:01.284965Z",
          "shell.execute_reply.started": "2021-06-28T10:53:01.280521Z"
        },
        "trusted": true
      },
      "source": [
        "len(features_x)"
      ],
      "id": "3f43b412",
      "execution_count": null,
      "outputs": []
    },
    {
      "cell_type": "code",
      "metadata": {
        "execution": {
          "iopub.execute_input": "2021-06-28T10:53:01.287413Z",
          "iopub.status.busy": "2021-06-28T10:53:01.287125Z",
          "iopub.status.idle": "2021-06-28T10:53:01.297868Z",
          "shell.execute_reply": "2021-06-28T10:53:01.296866Z",
          "shell.execute_reply.started": "2021-06-28T10:53:01.287386Z"
        },
        "trusted": true
      },
      "source": [
        "df.shape"
      ],
      "id": "f440b4ee",
      "execution_count": null,
      "outputs": []
    },
    {
      "cell_type": "code",
      "metadata": {
        "execution": {
          "iopub.execute_input": "2021-06-28T10:53:01.299416Z",
          "iopub.status.busy": "2021-06-28T10:53:01.298989Z",
          "iopub.status.idle": "2021-06-28T10:53:01.375668Z",
          "shell.execute_reply": "2021-06-28T10:53:01.374507Z",
          "shell.execute_reply.started": "2021-06-28T10:53:01.299383Z"
        },
        "trusted": true
      },
      "source": [
        "df.isnull().sum().sum()"
      ],
      "id": "d6c9e62d",
      "execution_count": null,
      "outputs": []
    },
    {
      "cell_type": "markdown",
      "metadata": {},
      "source": [
        "# Modelling\n"
      ],
      "id": "0446d74e"
    },
    {
      "cell_type": "code",
      "metadata": {
        "execution": {
          "iopub.execute_input": "2021-06-28T10:53:01.377162Z",
          "iopub.status.busy": "2021-06-28T10:53:01.376875Z",
          "iopub.status.idle": "2021-06-28T10:53:01.665803Z",
          "shell.execute_reply": "2021-06-28T10:53:01.664695Z",
          "shell.execute_reply.started": "2021-06-28T10:53:01.377134Z"
        },
        "trusted": true
      },
      "source": [
        "import xgboost as xgb"
      ],
      "id": "ea36064f",
      "execution_count": null,
      "outputs": []
    },
    {
      "cell_type": "code",
      "metadata": {
        "execution": {
          "iopub.execute_input": "2021-06-28T11:04:45.085164Z",
          "iopub.status.busy": "2021-06-28T11:04:45.084800Z",
          "iopub.status.idle": "2021-06-28T15:48:36.824286Z",
          "shell.execute_reply": "2021-06-28T15:48:36.823160Z",
          "shell.execute_reply.started": "2021-06-28T11:04:45.085134Z"
        },
        "trusted": true
      },
      "source": [
        "data = df.loc[(df['is_train'] == 1) & (df['Open'] == 1) & (df['Outlier'] == False)]\n",
        "x_train, x_test, y_train, y_test = train_test_split(data[features_x], \n",
        "                                                    data[features_y], \n",
        "                                                    test_size=0.1, \n",
        "                                                    random_state=42)\n",
        "print(x_train.shape, y_train.shape, x_test.shape, y_test.shape)\n",
        "\n",
        "dtrain = xgb.DMatrix(x_train, y_train)\n",
        "dtest = xgb.DMatrix(x_test, y_test)\n",
        "\n",
        "num_round = 20000\n",
        "evallist = [(dtrain, 'train'), (dtest, 'test')]\n",
        "\n",
        "param = {'max_depth': 9,\n",
        "         'eta': 0.01,\n",
        "         'subsample': 0.75,\n",
        "         'colsample_bytree': 0.6, \n",
        "         'objective': 'reg:squarederror',}\n",
        "\n",
        "plst = list(param.items())\n",
        "\n",
        "model = xgb.train(plst, dtrain, num_round, evallist, \n",
        "                  feval=rmspe_xg, verbose_eval=250, early_stopping_rounds=250)"
      ],
      "id": "9cbc627f",
      "execution_count": null,
      "outputs": []
    },
    {
      "cell_type": "code",
      "metadata": {
        "execution": {
          "iopub.execute_input": "2021-06-28T16:02:48.398991Z",
          "iopub.status.busy": "2021-06-28T16:02:48.398503Z",
          "iopub.status.idle": "2021-06-28T16:04:25.213487Z",
          "shell.execute_reply": "2021-06-28T16:04:25.212495Z",
          "shell.execute_reply.started": "2021-06-28T16:02:48.398948Z"
        },
        "trusted": true
      },
      "source": [
        "#Print Feature Importance\n",
        "plt.figure(figsize=(18,8))\n",
        "from xgboost import plot_importance\n",
        "plot_importance(model)\n",
        "plt.show()"
      ],
      "id": "66266460",
      "execution_count": null,
      "outputs": []
    },
    {
      "cell_type": "code",
      "metadata": {
        "execution": {
          "iopub.execute_input": "2021-06-28T16:05:37.622857Z",
          "iopub.status.busy": "2021-06-28T16:05:37.622422Z",
          "iopub.status.idle": "2021-06-28T16:06:00.425933Z",
          "shell.execute_reply": "2021-06-28T16:06:00.424719Z",
          "shell.execute_reply.started": "2021-06-28T16:05:37.622825Z"
        },
        "trusted": true
      },
      "source": [
        "submit = df.loc[df['is_train'] == 0]\n",
        "dsubmit = xgb.DMatrix(submit[features_x])\n",
        "predictions = model.predict(dsubmit)\n",
        "\n",
        "df_predictions = submit['Id'].reset_index()\n",
        "df_predictions['Id'] = df_predictions['Id'].astype('int')\n",
        "df_predictions['Sales'] = (np.exp(predictions) - 1) * 0.985 #Scale Back\n",
        "\n",
        "df_predictions.sort_values('Id', inplace=True)\n",
        "df_predictions[['Id', 'Sales']].to_csv('solution.csv', index=False)"
      ],
      "id": "ff1803d3",
      "execution_count": null,
      "outputs": []
    }
  ],
  "metadata": {
    "kernelspec": {
      "name": "python3",
      "language": "python",
      "display_name": "Python 3 (ipykernel)"
    }
  },
  "nbformat": 4,
  "nbformat_minor": 5
}